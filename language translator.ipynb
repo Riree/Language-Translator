{
 "cells": [
  {
   "cell_type": "code",
   "execution_count": 1,
   "id": "1b84d2d0-b164-4017-855e-0e9f6f69c497",
   "metadata": {},
   "outputs": [],
   "source": [
    "from tkinter import *\n",
    "from tkinter import ttk\n",
    "from googletrans import Translator,LANGUAGES\n",
    "\n"
   ]
  },
  {
   "cell_type": "code",
   "execution_count": 2,
   "id": "f4ca9025-30ed-436b-bb73-c6547f98b6bc",
   "metadata": {
    "scrolled": true
   },
   "outputs": [],
   "source": [
    "root = Tk()\n",
    "root.geometry('1100x320')\n",
    "root.resizable(0,0)\n",
    "root.iconbitmap(r'C:\\Users\\91893\\Downloads\\LT\\favicon.ico')\n",
    "root['bg']='skyblue'\n",
    "\n",
    "root.title('Language Translator')\n",
    "Label(root,text=\"Language Translator\", font= \"Arial 20 bold\").pack()\n",
    "\n"
   ]
  },
  {
   "cell_type": "code",
   "execution_count": 3,
   "id": "587275fc-288c-4137-9db7-0f40d3440594",
   "metadata": {},
   "outputs": [],
   "source": [
    "Label(root,text= \"Enter Text\", font =  'arial 13 bold', bg ='white smoke').place(x=165,y=90)\n"
   ]
  },
  {
   "cell_type": "code",
   "execution_count": 4,
   "id": "50e5710b-4dae-452a-be17-6ab9ece3cc14",
   "metadata": {
    "scrolled": true
   },
   "outputs": [
    {
     "data": {
      "text/plain": [
       "''"
      ]
     },
     "execution_count": 4,
     "metadata": {},
     "output_type": "execute_result"
    }
   ],
   "source": [
    "Input_text= Entry(root,width=60)\n",
    "Input_text.place(x=30,y=130)\n",
    "Input_text.get()\n"
   ]
  },
  {
   "cell_type": "code",
   "execution_count": 5,
   "id": "4f8805cf-f7dd-41a0-a91f-b82e41af35a0",
   "metadata": {},
   "outputs": [],
   "source": [
    "Label(root,text='Output',font='arial 13 bold',bg='white smoke').place(x=780,y=90)\n",
    "Output_text=Text(root,font='arial 10',height=5, wrap= WORD,padx=5,pady=5,width=50)\n",
    "Output_text.place(x=600,y=130)\n",
    "\n",
    "language = list(LANGUAGES.values())\n",
    "\n",
    "dest_lang=ttk.Combobox(root, values=language, width = 22)\n",
    "dest_lang.place(x=130, y=180)\n",
    "dest_lang.set('choose language')\n",
    "\n",
    "def Translate():\n",
    "    translator = Translator()\n",
    "    translated= translator.translate(text=Input_text.get(), dest= dest_lang.get())\n",
    "    Output_text.delete(1.0,END)\n",
    "    Output_text.insert(END,translated.text)\n",
    "\n",
    "trans_btn= Button(root,text='Translate', font='aerial 12 bold',pady=5,command=Translate,bg='orange',activebackground='green')\n",
    "trans_btn.place(x=445,y=180)\n",
    "\n",
    "root.mainloop()"
   ]
  }
 ],
 "metadata": {
  "kernelspec": {
   "display_name": "Python 3 (ipykernel)",
   "language": "python",
   "name": "python3"
  },
  "language_info": {
   "codemirror_mode": {
    "name": "ipython",
    "version": 3
   },
   "file_extension": ".py",
   "mimetype": "text/x-python",
   "name": "python",
   "nbconvert_exporter": "python",
   "pygments_lexer": "ipython3",
   "version": "3.11.4"
  }
 },
 "nbformat": 4,
 "nbformat_minor": 5
}
